{
  "nbformat": 4,
  "nbformat_minor": 0,
  "metadata": {
    "colab": {
      "name": "berater.ipynb",
      "version": "0.3.2",
      "provenance": [],
      "include_colab_link": true
    },
    "kernelspec": {
      "name": "python3",
      "display_name": "Python 3"
    },
    "accelerator": "GPU"
  },
  "cells": [
    {
      "cell_type": "markdown",
      "metadata": {
        "id": "view-in-github",
        "colab_type": "text"
      },
      "source": [
        "<a href=\"https://colab.research.google.com/github/DJCordhose/architecture/blob/master/notebooks/rl/berater.ipynb\" target=\"_parent\"><img src=\"https://colab.research.google.com/assets/colab-badge.svg\" alt=\"Open In Colab\"/></a>"
      ]
    },
    {
      "metadata": {
        "id": "GSx1OeL4qNfI",
        "colab_type": "text"
      },
      "cell_type": "markdown",
      "source": [
        "## Installation (required for colab)"
      ]
    },
    {
      "metadata": {
        "id": "8hReaoWIkf7H",
        "colab_type": "code",
        "colab": {
          "base_uri": "https://localhost:8080/",
          "height": 204
        },
        "outputId": "ab6004b7-c12d-42d7-b3a3-97a8f27f93cb"
      },
      "cell_type": "code",
      "source": [
        "!pip install gym"
      ],
      "execution_count": 1,
      "outputs": [
        {
          "output_type": "stream",
          "text": [
            "Requirement already satisfied: gym in /usr/local/lib/python3.6/dist-packages (0.10.9)\n",
            "Requirement already satisfied: requests>=2.0 in /usr/local/lib/python3.6/dist-packages (from gym) (2.18.4)\n",
            "Requirement already satisfied: six in /usr/local/lib/python3.6/dist-packages (from gym) (1.11.0)\n",
            "Requirement already satisfied: scipy in /usr/local/lib/python3.6/dist-packages (from gym) (0.19.1)\n",
            "Requirement already satisfied: pyglet>=1.2.0 in /usr/local/lib/python3.6/dist-packages (from gym) (1.3.2)\n",
            "Requirement already satisfied: numpy>=1.10.4 in /usr/local/lib/python3.6/dist-packages (from gym) (1.14.6)\n",
            "Requirement already satisfied: idna<2.7,>=2.5 in /usr/local/lib/python3.6/dist-packages (from requests>=2.0->gym) (2.6)\n",
            "Requirement already satisfied: chardet<3.1.0,>=3.0.2 in /usr/local/lib/python3.6/dist-packages (from requests>=2.0->gym) (3.0.4)\n",
            "Requirement already satisfied: urllib3<1.23,>=1.21.1 in /usr/local/lib/python3.6/dist-packages (from requests>=2.0->gym) (1.22)\n",
            "Requirement already satisfied: certifi>=2017.4.17 in /usr/local/lib/python3.6/dist-packages (from requests>=2.0->gym) (2018.10.15)\n",
            "Requirement already satisfied: future in /usr/local/lib/python3.6/dist-packages (from pyglet>=1.2.0->gym) (0.16.0)\n"
          ],
          "name": "stdout"
        }
      ]
    },
    {
      "metadata": {
        "id": "mWv-42gsqFX2",
        "colab_type": "code",
        "colab": {}
      },
      "cell_type": "code",
      "source": [
        "!pip install -e git+https://github.com/openai/baselines#egg=MyProject"
      ],
      "execution_count": 0,
      "outputs": []
    },
    {
      "metadata": {
        "id": "-B7w_elxlwiG",
        "colab_type": "code",
        "colab": {}
      },
      "cell_type": "code",
      "source": [
        "# do we really need this?\n",
        "# # https://medium.com/@kaleajit27/reinforcement-learning-on-google-colab-9cb2e1ef51e\n",
        "# !apt-get install cmake libopenmpi-dev python3-dev zlib1g-dev -y"
      ],
      "execution_count": 0,
      "outputs": []
    },
    {
      "metadata": {
        "id": "Imcgi1Q5qSEE",
        "colab_type": "text"
      },
      "cell_type": "markdown",
      "source": [
        "## Our environment, versioned by cnt"
      ]
    },
    {
      "metadata": {
        "id": "7sAX17lthUN2",
        "colab_type": "code",
        "colab": {}
      },
      "cell_type": "code",
      "source": [
        "cnt = 0"
      ],
      "execution_count": 0,
      "outputs": []
    },
    {
      "metadata": {
        "id": "ItkHH9uthUN-",
        "colab_type": "code",
        "colab": {}
      },
      "cell_type": "code",
      "source": [
        "import gym\n",
        "from gym.utils import seeding\n",
        "from gym import spaces\n",
        "\n",
        "def state_name_to_int(state):\n",
        "    state_name_map = {\n",
        "        'S/Z': 0,\n",
        "        'A': 1,\n",
        "        'B': 2,\n",
        "        'C': 3,\n",
        "    }\n",
        "    return state_name_map[state]\n",
        "\n",
        "def int_to_state_name(state_as_int):\n",
        "    state_map = {\n",
        "        0: 'S/Z',\n",
        "        1: 'A',\n",
        "        2: 'B',\n",
        "        3: 'C'\n",
        "    }\n",
        "    return state_map[state_as_int]\n",
        "    \n",
        "class BeraterEnv(gym.Env):\n",
        "    \"\"\"\n",
        "    The Berater Problem\n",
        "\n",
        "    Actions: \n",
        "    There are 3 discrete deterministic actions:\n",
        "    - 0: First Direction\n",
        "    - 1: Second Direction\n",
        "    - 2: Third Direction / Go home\n",
        "    \"\"\"\n",
        "    metadata = {'render.modes': ['ansi']}\n",
        "    \n",
        "    num_envs = 1\n",
        "\n",
        "    def __init__(self):\n",
        "        self.map = {\n",
        "            'S/Z': [('A', 100), ('B', 400), ('C', 200 )],\n",
        "            'A': [('B', 250), ('C', 400), ('S/Z', 100 )],\n",
        "            'B': [('A', 250), ('C', 250), ('S/Z', 400 )],\n",
        "            'C': [('A', 400), ('B', 250), ('S/Z', 200 )]\n",
        "        }\n",
        "        self.action_space = spaces.Discrete(3)\n",
        "        self.observation_space = spaces.Discrete(1)\n",
        "\n",
        "        self.reset()\n",
        "        self.optimum = self.calculate_customers_reward()\n",
        "\n",
        "    def seed(self, seed=None):\n",
        "        self.np_random, seed = seeding.np_random(seed)\n",
        "        return [seed]\n",
        "\n",
        "    def step(self, action):\n",
        "        paths = self.map[self.state]\n",
        "        destination, cost = paths[action]\n",
        "\n",
        "        info = {\"from\": self.state, \"to\": destination}\n",
        "\n",
        "        self.state = destination\n",
        "        reward = (-cost + self.customer_reward[destination]) / self.optimum\n",
        "        self.customer_visited(destination)\n",
        "        done = destination == 'S/Z' and self.all_customers_visited()\n",
        "        return state_name_to_int(self.state), reward, done, info\n",
        "\n",
        "    def customer_visited(self, customer):\n",
        "        self.customer_reward[customer] = 0\n",
        "\n",
        "    def all_customers_visited(self):\n",
        "        return self.calculate_customers_reward() == 0\n",
        "\n",
        "    def calculate_customers_reward(self):\n",
        "        sum = 0\n",
        "        for value in self.customer_reward.values():\n",
        "            sum += value\n",
        "        return sum\n",
        "\n",
        "    def reset(self):\n",
        "        # print(\"Reset\")\n",
        "        reward_per_customer = 1000\n",
        "        self.customer_reward = {\n",
        "            'S/Z': 0,\n",
        "            'A': reward_per_customer,\n",
        "            'B': reward_per_customer,\n",
        "            'C': reward_per_customer,\n",
        "        }\n",
        "\n",
        "        self.state = 'S/Z'\n",
        "        return state_name_to_int(self.state)\n",
        "\n",
        "    def render(self, mode='human'):\n",
        "        print(self.state)\n",
        "        print(self.customer_reward)\n",
        "\n",
        "from gym.envs.registration import register\n",
        "cnt += 1\n",
        "id = \"Berater-v{}\".format(cnt)\n",
        "register(\n",
        "    id=id,\n",
        "    entry_point=BeraterEnv\n",
        ")        \n",
        "env = gym.make(id)"
      ],
      "execution_count": 0,
      "outputs": []
    },
    {
      "metadata": {
        "id": "wS2EAxHwhUOB",
        "colab_type": "text"
      },
      "cell_type": "markdown",
      "source": [
        "## Try out Environment"
      ]
    },
    {
      "metadata": {
        "id": "81SKk83PhUOC",
        "colab_type": "code",
        "colab": {
          "base_uri": "https://localhost:8080/",
          "height": 442
        },
        "outputId": "ac8ffc18-bd40-4c6e-b480-bc65fa39aaf6"
      },
      "cell_type": "code",
      "source": [
        "# Run a demo of the environment\n",
        "observation = env.reset()\n",
        "for t in range(1000):\n",
        "    env.render()\n",
        "    action = env.action_space.sample()\n",
        "    print(\"Action: {}\".format(action))\n",
        "    observation, reward, done, info = env.step(action)\n",
        "    print(reward)\n",
        "    if done:\n",
        "        print(\"Episode finished after {} timesteps\".format(t+1))\n",
        "        break\n",
        "env.close()"
      ],
      "execution_count": 5,
      "outputs": [
        {
          "output_type": "stream",
          "text": [
            "S/Z\n",
            "{'S/Z': 0, 'A': 1000, 'B': 1000, 'C': 1000}\n",
            "Action: 0\n",
            "0.3\n",
            "A\n",
            "{'S/Z': 0, 'A': 0, 'B': 1000, 'C': 1000}\n",
            "Action: 1\n",
            "0.2\n",
            "C\n",
            "{'S/Z': 0, 'A': 0, 'B': 1000, 'C': 0}\n",
            "Action: 0\n",
            "-0.13333333333333333\n",
            "A\n",
            "{'S/Z': 0, 'A': 0, 'B': 1000, 'C': 0}\n",
            "Action: 1\n",
            "-0.13333333333333333\n",
            "C\n",
            "{'S/Z': 0, 'A': 0, 'B': 1000, 'C': 0}\n",
            "Action: 1\n",
            "0.25\n",
            "B\n",
            "{'S/Z': 0, 'A': 0, 'B': 0, 'C': 0}\n",
            "Action: 2\n",
            "-0.13333333333333333\n",
            "Episode finished after 6 timesteps\n"
          ],
          "name": "stdout"
        }
      ]
    },
    {
      "metadata": {
        "id": "CA8HEF5BhUOI",
        "colab_type": "text"
      },
      "cell_type": "markdown",
      "source": [
        "## Train PPO2 using MLP Neural Network Architecture"
      ]
    },
    {
      "metadata": {
        "id": "D_NJlG9HhUOJ",
        "colab_type": "code",
        "colab": {
          "base_uri": "https://localhost:8080/",
          "height": 2584
        },
        "outputId": "3a630617-e8b3-467b-9c96-5305ef701c22"
      },
      "cell_type": "code",
      "source": [
        "from baselines.common.vec_env.dummy_vec_env import DummyVecEnv\n",
        "from baselines.ppo2 import ppo2\n",
        "\n",
        "wrapped_env = DummyVecEnv([lambda: gym.make(id)])\n",
        "\n",
        "model = ppo2.learn(network='mlp', env=wrapped_env, total_timesteps=200000)"
      ],
      "execution_count": 9,
      "outputs": [
        {
          "output_type": "stream",
          "text": [
            "Logging to /tmp/openai-2018-11-08-09-29-15-446014\n",
            "--------------------------------------\n",
            "| approxkl           | 4.6544883e-05 |\n",
            "| clipfrac           | 0.0           |\n",
            "| eplenmean          | nan           |\n",
            "| eprewmean          | nan           |\n",
            "| explained_variance | -0.11         |\n",
            "| fps                | 456           |\n",
            "| nupdates           | 1             |\n",
            "| policy_entropy     | 1.0985682     |\n",
            "| policy_loss        | -0.0005559514 |\n",
            "| serial_timesteps   | 2048          |\n",
            "| time_elapsed       | 4.49          |\n",
            "| total_timesteps    | 2048          |\n",
            "| value_loss         | 0.041274015   |\n",
            "--------------------------------------\n",
            "--------------------------------------\n",
            "| approxkl           | 0.00025403075 |\n",
            "| clipfrac           | 0.0           |\n",
            "| eplenmean          | nan           |\n",
            "| eprewmean          | nan           |\n",
            "| explained_variance | 0.121         |\n",
            "| fps                | 537           |\n",
            "| nupdates           | 10            |\n",
            "| policy_entropy     | 1.0521085     |\n",
            "| policy_loss        | -0.0013962826 |\n",
            "| serial_timesteps   | 20480         |\n",
            "| time_elapsed       | 38.3          |\n",
            "| total_timesteps    | 20480         |\n",
            "| value_loss         | 0.034474295   |\n",
            "--------------------------------------\n",
            "--------------------------------------\n",
            "| approxkl           | 0.00081373216 |\n",
            "| clipfrac           | 0.0           |\n",
            "| eplenmean          | nan           |\n",
            "| eprewmean          | nan           |\n",
            "| explained_variance | 0.0807        |\n",
            "| fps                | 558           |\n",
            "| nupdates           | 20            |\n",
            "| policy_entropy     | 1.0015771     |\n",
            "| policy_loss        | -0.0014113184 |\n",
            "| serial_timesteps   | 40960         |\n",
            "| time_elapsed       | 75.3          |\n",
            "| total_timesteps    | 40960         |\n",
            "| value_loss         | 0.039432857   |\n",
            "--------------------------------------\n",
            "---------------------------------------\n",
            "| approxkl           | 8.219822e-05   |\n",
            "| clipfrac           | 0.0            |\n",
            "| eplenmean          | nan            |\n",
            "| eprewmean          | nan            |\n",
            "| explained_variance | 0.143          |\n",
            "| fps                | 568            |\n",
            "| nupdates           | 30             |\n",
            "| policy_entropy     | 1.0312352      |\n",
            "| policy_loss        | -0.00028124536 |\n",
            "| serial_timesteps   | 61440          |\n",
            "| time_elapsed       | 112            |\n",
            "| total_timesteps    | 61440          |\n",
            "| value_loss         | 0.023431057    |\n",
            "---------------------------------------\n",
            "-------------------------------------\n",
            "| approxkl           | 0.0002471428 |\n",
            "| clipfrac           | 0.0          |\n",
            "| eplenmean          | nan          |\n",
            "| eprewmean          | nan          |\n",
            "| explained_variance | 0.139        |\n",
            "| fps                | 531          |\n",
            "| nupdates           | 40           |\n",
            "| policy_entropy     | 1.0066128    |\n",
            "| policy_loss        | 0.0006208041 |\n",
            "| serial_timesteps   | 81920        |\n",
            "| time_elapsed       | 149          |\n",
            "| total_timesteps    | 81920        |\n",
            "| value_loss         | 0.027068635  |\n",
            "-------------------------------------\n",
            "--------------------------------------\n",
            "| approxkl           | 0.00075988437 |\n",
            "| clipfrac           | 0.0           |\n",
            "| eplenmean          | nan           |\n",
            "| eprewmean          | nan           |\n",
            "| explained_variance | 0.0678        |\n",
            "| fps                | 553           |\n",
            "| nupdates           | 50            |\n",
            "| policy_entropy     | 1.010454      |\n",
            "| policy_loss        | -0.002118352  |\n",
            "| serial_timesteps   | 102400        |\n",
            "| time_elapsed       | 187           |\n",
            "| total_timesteps    | 102400        |\n",
            "| value_loss         | 0.03319622    |\n",
            "--------------------------------------\n",
            "---------------------------------------\n",
            "| approxkl           | 5.7269885e-05  |\n",
            "| clipfrac           | 0.0            |\n",
            "| eplenmean          | nan            |\n",
            "| eprewmean          | nan            |\n",
            "| explained_variance | 0.0934         |\n",
            "| fps                | 495            |\n",
            "| nupdates           | 60             |\n",
            "| policy_entropy     | 1.0053653      |\n",
            "| policy_loss        | -5.4212986e-05 |\n",
            "| serial_timesteps   | 122880         |\n",
            "| time_elapsed       | 225            |\n",
            "| total_timesteps    | 122880         |\n",
            "| value_loss         | 0.029481936    |\n",
            "---------------------------------------\n",
            "---------------------------------------\n",
            "| approxkl           | 0.00018191192  |\n",
            "| clipfrac           | 0.0            |\n",
            "| eplenmean          | nan            |\n",
            "| eprewmean          | nan            |\n",
            "| explained_variance | 0.0853         |\n",
            "| fps                | 560            |\n",
            "| nupdates           | 70             |\n",
            "| policy_entropy     | 1.0097584      |\n",
            "| policy_loss        | -0.00036059914 |\n",
            "| serial_timesteps   | 143360         |\n",
            "| time_elapsed       | 262            |\n",
            "| total_timesteps    | 143360         |\n",
            "| value_loss         | 0.035595648    |\n",
            "---------------------------------------\n",
            "--------------------------------------\n",
            "| approxkl           | 6.532163e-05  |\n",
            "| clipfrac           | 0.0           |\n",
            "| eplenmean          | nan           |\n",
            "| eprewmean          | nan           |\n",
            "| explained_variance | 0.112         |\n",
            "| fps                | 563           |\n",
            "| nupdates           | 80            |\n",
            "| policy_entropy     | 1.012084      |\n",
            "| policy_loss        | -0.0002777236 |\n",
            "| serial_timesteps   | 163840        |\n",
            "| time_elapsed       | 299           |\n",
            "| total_timesteps    | 163840        |\n",
            "| value_loss         | 0.030191064   |\n",
            "--------------------------------------\n",
            "---------------------------------------\n",
            "| approxkl           | 6.11738e-05    |\n",
            "| clipfrac           | 0.0            |\n",
            "| eplenmean          | nan            |\n",
            "| eprewmean          | nan            |\n",
            "| explained_variance | 0.116          |\n",
            "| fps                | 555            |\n",
            "| nupdates           | 90             |\n",
            "| policy_entropy     | 0.9839805      |\n",
            "| policy_loss        | -0.00017422134 |\n",
            "| serial_timesteps   | 184320         |\n",
            "| time_elapsed       | 336            |\n",
            "| total_timesteps    | 184320         |\n",
            "| value_loss         | 0.027160585    |\n",
            "---------------------------------------\n"
          ],
          "name": "stdout"
        }
      ]
    },
    {
      "metadata": {
        "id": "qndC-C8YhUOO",
        "colab_type": "text"
      },
      "cell_type": "markdown",
      "source": [
        "## Use trained model to do actual planning"
      ]
    },
    {
      "metadata": {
        "id": "Ltjo9tHYhUOQ",
        "colab_type": "code",
        "colab": {
          "base_uri": "https://localhost:8080/",
          "height": 510
        },
        "outputId": "08770954-7d5f-40c9-c2b1-8dcd69c8b551"
      },
      "cell_type": "code",
      "source": [
        "observation = wrapped_env.reset()\n",
        "\n",
        "import numpy as np \n",
        "\n",
        "state = np.zeros((1, 2*128))\n",
        "dones = np.zeros((1))\n",
        "\n",
        "for t in range(1000):\n",
        "    wrapped_env.render()\n",
        "    actions, _, state, _ = model.step(observation, S=state, M=dones)\n",
        "    print(\"Action: {}\".format(actions))\n",
        "    observation, reward, done, info = wrapped_env.step(actions)\n",
        "    print(reward)\n",
        "    if done:\n",
        "        print(\"Episode finished after {} timesteps\".format(t+1))\n",
        "        break\n",
        "wrapped_env.close()"
      ],
      "execution_count": 10,
      "outputs": [
        {
          "output_type": "stream",
          "text": [
            "S/Z\n",
            "{'S/Z': 0, 'A': 1000, 'B': 1000, 'C': 1000}\n",
            "Action: [2]\n",
            "[0.26666668]\n",
            "C\n",
            "{'S/Z': 0, 'A': 1000, 'B': 1000, 'C': 0}\n",
            "Action: [1]\n",
            "[0.25]\n",
            "B\n",
            "{'S/Z': 0, 'A': 1000, 'B': 0, 'C': 0}\n",
            "Action: [2]\n",
            "[-0.13333334]\n",
            "S/Z\n",
            "{'S/Z': 0, 'A': 1000, 'B': 0, 'C': 0}\n",
            "Action: [0]\n",
            "[0.3]\n",
            "A\n",
            "{'S/Z': 0, 'A': 0, 'B': 0, 'C': 0}\n",
            "Action: [1]\n",
            "[-0.13333334]\n",
            "C\n",
            "{'S/Z': 0, 'A': 0, 'B': 0, 'C': 0}\n",
            "Action: [0]\n",
            "[-0.13333334]\n",
            "A\n",
            "{'S/Z': 0, 'A': 0, 'B': 0, 'C': 0}\n",
            "Action: [2]\n",
            "[-0.03333334]\n",
            "Episode finished after 7 timesteps\n"
          ],
          "name": "stdout"
        }
      ]
    },
    {
      "metadata": {
        "id": "1XkBxW1ihUOV",
        "colab_type": "code",
        "colab": {}
      },
      "cell_type": "code",
      "source": [
        ""
      ],
      "execution_count": 0,
      "outputs": []
    }
  ]
}